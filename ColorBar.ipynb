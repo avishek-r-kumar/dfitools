{
 "cells": [
  {
   "cell_type": "code",
   "execution_count": null,
   "metadata": {
    "collapsed": false
   },
   "outputs": [],
   "source": [
    "import pylab as pl \n",
    "import numpy as np \n",
    "pl.rcParams.update({'font.size': 22})\n",
    "a = np.array([[-0.5,1.75]])\n",
    "pl.figure(figsize=(4.0, 16))\n",
    "img = pl.imshow(a,cmap=\"seismic\")\n",
    "pl.gca().set_visible(False)\n",
    "#cax = pl.axes([0.1, 0.2, 0.8, 0.6])\n",
    "cax= pl.axes([0.35,0.1,0.25,.95])\n",
    "pl.colorbar(cax=cax,orientation='vertical')\n",
    "pl.xticks([])\n",
    "pl.yticks([])\n",
    "pl.savefig(\"colorbar.png\")\n",
    "pl.show()"
   ]
  },
  {
   "cell_type": "code",
   "execution_count": null,
   "metadata": {
    "collapsed": true
   },
   "outputs": [],
   "source": [
    "import pylab as pl \n",
    "import numpy as np \n",
    "pl.rcParams.update({'font.size': 22})\n",
    "a = np.array([[-0.5,1.75]])\n",
    "pl.figure(figsize=(4.0, 16))\n",
    "img = pl.imshow(a,cmap=\"jet\")\n",
    "pl.gca().set_visible(False)\n",
    "#cax = pl.axes([0.1, 0.2, 0.8, 0.6])\n",
    "cax= pl.axes([0.35,0.1,0.25,.95])\n",
    "pl.colorbar(cax=cax,orientation='vertical')\n",
    "pl.xticks([])\n",
    "pl.yticks([])\n",
    "pl.savefig(\"colorbar_jet.png\")\n",
    "pl.show()"
   ]
  },
  {
   "cell_type": "code",
   "execution_count": null,
   "metadata": {
    "collapsed": true
   },
   "outputs": [],
   "source": [
    "#Color Maps \n"
   ]
  }
 ],
 "metadata": {
  "kernelspec": {
   "display_name": "Python 2",
   "language": "python",
   "name": "python2"
  },
  "language_info": {
   "codemirror_mode": {
    "name": "ipython",
    "version": 2
   },
   "file_extension": ".py",
   "mimetype": "text/x-python",
   "name": "python",
   "nbconvert_exporter": "python",
   "pygments_lexer": "ipython2",
   "version": "2.7.6"
  }
 },
 "nbformat": 4,
 "nbformat_minor": 0
}
