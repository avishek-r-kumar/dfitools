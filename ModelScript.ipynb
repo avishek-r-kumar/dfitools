{
 "cells": [
  {
   "cell_type": "code",
   "execution_count": 1,
   "metadata": {
    "collapsed": false
   },
   "outputs": [
    {
     "name": "stdout",
     "output_type": "stream",
     "text": [
      "Populating the interactive namespace from numpy and matplotlib\n"
     ]
    }
   ],
   "source": [
    "%pylab inline\n",
    "import dfi \n",
    "import glob "
   ]
  },
  {
   "cell_type": "code",
   "execution_count": 2,
   "metadata": {
    "collapsed": true
   },
   "outputs": [],
   "source": [
    "import pandas as pd "
   ]
  },
  {
   "cell_type": "code",
   "execution_count": 3,
   "metadata": {
    "collapsed": false
   },
   "outputs": [],
   "source": [
    "with open('pdblist.txt','r') as infile:\n",
    "    pdbids = [line.strip('\\n') for line in infile]\n",
    "        "
   ]
  },
  {
   "cell_type": "code",
   "execution_count": 4,
   "metadata": {
    "collapsed": false
   },
   "outputs": [],
   "source": [
    "pdbids=map(lambda x: x.replace('\\r',''),pdbids)"
   ]
  },
  {
   "cell_type": "code",
   "execution_count": 5,
   "metadata": {
    "collapsed": false
   },
   "outputs": [
    {
     "name": "stdout",
     "output_type": "stream",
     "text": [
      "4DUR\n",
      "2Q7Z\n",
      "4I0K\n",
      "1GAX\n",
      "1QU2\n",
      "2Z7X\n",
      "5DO7\n",
      "4KX7\n",
      "3SE6\n",
      "5AB0\n",
      "5AB2\n",
      "1DJG\n",
      "3OHM\n",
      "2FJU\n",
      "1QAS\n",
      "4QJ3\n",
      "4GNK\n",
      "3S84\n",
      "3R2P\n",
      "1AV1\n",
      "2A01\n",
      "2LEM\n",
      "2MSC\n",
      "3NQ5\n",
      "3NM8\n",
      "4P6R\n",
      "4J6V\n",
      "4HD4\n",
      "4J6T\n",
      "4HD7\n"
     ]
    }
   ],
   "source": [
    "for pdb in pdbids:\n",
    "    print pdb\n",
    "    dfi.fetch_pdb(pdb)"
   ]
  },
  {
   "cell_type": "code",
   "execution_count": 6,
   "metadata": {
    "collapsed": false
   },
   "outputs": [],
   "source": [
    "#data = pd.read_csv('missingresidues.csv')"
   ]
  },
  {
   "cell_type": "code",
   "execution_count": 7,
   "metadata": {
    "collapsed": false
   },
   "outputs": [],
   "source": [
    "#for pdb in data['pdb'].values:\n",
    "#    dfi.fetch_pdb(pdb)"
   ]
  },
  {
   "cell_type": "code",
   "execution_count": 8,
   "metadata": {
    "collapsed": true
   },
   "outputs": [],
   "source": [
    "pdbfiles = glob.glob('*.pdb')\n"
   ]
  },
  {
   "cell_type": "code",
   "execution_count": 9,
   "metadata": {
    "collapsed": false
   },
   "outputs": [
    {
     "data": {
      "text/plain": [
       "['1AV1.pdb',\n",
       " '1DJG.pdb',\n",
       " '1GAX.pdb',\n",
       " '1QAS.pdb',\n",
       " '1QU2.pdb',\n",
       " '2A01.pdb',\n",
       " '2FJU.pdb',\n",
       " '2LEM.pdb',\n",
       " '2MSC.pdb',\n",
       " '2Q7Z.pdb',\n",
       " '2Z7X.pdb',\n",
       " '3NM8.pdb',\n",
       " '3NQ5.pdb',\n",
       " '3OHM.pdb',\n",
       " '3R2P.pdb',\n",
       " '3S84.pdb',\n",
       " '3SE6.pdb',\n",
       " '4DUR.pdb',\n",
       " '4GNK.pdb',\n",
       " '4HD4.pdb',\n",
       " '4HD7.pdb',\n",
       " '4I0K.pdb',\n",
       " '4J6T.pdb',\n",
       " '4J6V.pdb',\n",
       " '4KX7.pdb',\n",
       " '4P6R.pdb',\n",
       " '4QJ3.pdb',\n",
       " '5AB0.pdb',\n",
       " '5AB2.pdb',\n",
       " '5DO7.pdb']"
      ]
     },
     "execution_count": 9,
     "metadata": {},
     "output_type": "execute_result"
    }
   ],
   "source": [
    "pdbfiles"
   ]
  },
  {
   "cell_type": "code",
   "execution_count": 10,
   "metadata": {
    "collapsed": false
   },
   "outputs": [],
   "source": [
    "pdbfiles=map(lambda x: x.replace('\\r',''),pdbfiles)"
   ]
  },
  {
   "cell_type": "code",
   "execution_count": 11,
   "metadata": {
    "collapsed": true
   },
   "outputs": [],
   "source": [
    "def findmissing(pdbfile):\n",
    "    \"\"\"\n",
    "    Enter a pdbid and output the missing residues and number of chains.\n",
    "    The missing residues from the beninning and end of the chain are excluded.\n",
    "    \"\"\"\n",
    "    import pdbfixer \n",
    "    fixer = pdbfixer.PDBFixer(filename=pdbfile)\n",
    "    fixer.findMissingResidues()\n",
    "    keys = fixer.missingResidues.keys()\n",
    "    chains = list(fixer.topology.chains())\n",
    "    #print chains\n",
    "    \n",
    "    for key in keys:\n",
    "        chain = chains[key[0]]\n",
    "        if key[1] == 0 or key[1] == len( list(chain.residues())):\n",
    "            del fixer.missingResidues[key]\n",
    "            \n",
    "    return fixer.missingResidues"
   ]
  },
  {
   "cell_type": "code",
   "execution_count": 12,
   "metadata": {
    "collapsed": false
   },
   "outputs": [
    {
     "data": {
      "text/plain": [
       "['1AV1.pdb',\n",
       " '1DJG.pdb',\n",
       " '1GAX.pdb',\n",
       " '1QAS.pdb',\n",
       " '1QU2.pdb',\n",
       " '2A01.pdb',\n",
       " '2FJU.pdb',\n",
       " '2LEM.pdb',\n",
       " '2MSC.pdb',\n",
       " '2Q7Z.pdb',\n",
       " '2Z7X.pdb',\n",
       " '3NM8.pdb',\n",
       " '3NQ5.pdb',\n",
       " '3OHM.pdb',\n",
       " '3R2P.pdb',\n",
       " '3S84.pdb',\n",
       " '3SE6.pdb',\n",
       " '4DUR.pdb',\n",
       " '4GNK.pdb',\n",
       " '4HD4.pdb',\n",
       " '4HD7.pdb',\n",
       " '4I0K.pdb',\n",
       " '4J6T.pdb',\n",
       " '4J6V.pdb',\n",
       " '4KX7.pdb',\n",
       " '4P6R.pdb',\n",
       " '4QJ3.pdb',\n",
       " '5AB0.pdb',\n",
       " '5AB2.pdb',\n",
       " '5DO7.pdb']"
      ]
     },
     "execution_count": 12,
     "metadata": {},
     "output_type": "execute_result"
    }
   ],
   "source": [
    "pdbfiles"
   ]
  },
  {
   "cell_type": "code",
   "execution_count": 13,
   "metadata": {
    "collapsed": false
   },
   "outputs": [
    {
     "name": "stdout",
     "output_type": "stream",
     "text": [
      "1DJG.pdb {(0, 243): ['GLY', 'GLY', 'LEU', 'LEU', 'PRO', 'ALA', 'GLY', 'GLY', 'GLU', 'ASN', 'GLY', 'SER', 'GLU', 'ALA', 'THR', 'ASP', 'VAL', 'SER', 'ASP', 'GLU', 'VAL', 'GLU', 'ALA', 'ALA', 'GLU', 'MET', 'GLU', 'ASP', 'GLU', 'ALA', 'VAL', 'ARG', 'SER', 'GLN', 'VAL', 'GLN', 'HIS', 'LYS', 'PRO', 'LYS', 'GLU', 'ASP', 'LYS', 'LEU'], (1, 288): ['LEU', 'PRO', 'ALA', 'GLY', 'GLY', 'GLU', 'ASN', 'GLY', 'SER', 'GLU', 'ALA', 'THR', 'ASP', 'VAL', 'SER', 'ASP', 'GLU', 'VAL', 'GLU', 'ALA', 'ALA', 'GLU', 'MET', 'GLU', 'ASP', 'GLU', 'ALA', 'VAL', 'ARG', 'SER', 'GLN', 'VAL', 'GLN', 'HIS', 'LYS', 'PRO', 'LYS', 'GLU']}\n",
      "1QAS.pdb {(0, 399): ['LYS', 'ASN', 'LYS', 'ASN', 'SER'], (1, 240): ['LEU', 'PRO', 'ALA', 'GLY', 'GLY', 'GLU', 'ASN', 'GLY', 'SER', 'GLU', 'ALA', 'THR', 'ASP', 'VAL', 'SER', 'ASP', 'GLU', 'VAL', 'GLU', 'ALA', 'ALA', 'GLU', 'MET', 'GLU', 'ASP', 'GLU', 'ALA', 'VAL', 'ARG', 'SER', 'GLN', 'VAL', 'GLN', 'HIS', 'LYS', 'PRO', 'LYS', 'GLU', 'ASP'], (1, 398): ['LYS', 'ASN', 'LYS', 'ASN', 'SER'], (0, 240): ['LEU', 'LEU', 'PRO', 'ALA', 'GLY', 'GLY', 'GLU', 'ASN', 'GLY', 'SER', 'GLU', 'ALA', 'THR', 'ASP', 'VAL', 'SER', 'ASP', 'GLU', 'VAL', 'GLU', 'ALA', 'ALA', 'GLU', 'MET', 'GLU', 'ASP', 'GLU', 'ALA', 'VAL', 'ARG', 'SER', 'GLN', 'VAL', 'GLN', 'HIS', 'LYS', 'PRO', 'LYS', 'GLU', 'ASP', 'LYS', 'LEU'], (1, 266): ['GLY', 'THR', 'SER']}\n",
      "2FJU.pdb {(1, 217): ['TYR', 'HIS', 'ALA', 'LYS', 'ALA', 'LYS', 'PRO'], (1, 425): ['ASN', 'GLN', 'PHE', 'SER', 'GLY', 'PRO', 'THR', 'SER', 'SER', 'SER', 'LYS', 'ASP', 'THR', 'GLY', 'GLY', 'GLU', 'ALA', 'GLU', 'GLY', 'SER', 'SER', 'PRO', 'PRO', 'SER', 'ALA', 'PRO', 'ALA', 'VAL', 'TRP', 'ALA', 'GLY', 'GLU', 'GLU', 'GLY', 'THR', 'GLU', 'LEU', 'GLU', 'GLU', 'GLU', 'GLU', 'VAL', 'GLU', 'GLU', 'GLU', 'GLU', 'GLU'], (1, 234): ['SER', 'ARG', 'LEU', 'ASN', 'SER', 'LEU', 'LEU', 'PHE', 'PRO', 'PRO', 'ALA', 'ARG', 'PRO', 'ASP', 'GLN', 'VAL'], (1, 574): ['ASP', 'LYS', 'GLN', 'PHE', 'ASN', 'PRO', 'PHE', 'SER', 'VAL', 'ASP', 'ARG', 'ILE', 'ASP', 'VAL', 'VAL', 'VAL', 'ALA'], (1, 244): ['GLY', 'ILE', 'ASN', 'ALA', 'GLN', 'ARG']}\n",
      "3NQ5.pdb {(1, 243): ['ASN', 'GLN', 'ASN']}\n",
      "3OHM.pdb {(1, 78): ['LEU', 'GLY', 'PHE', 'GLY', 'GLY', 'PRO', 'ASP', 'ALA', 'ARG'], (1, 451): ['ARG', 'PRO', 'SER', 'ALA', 'GLY', 'GLY', 'PRO', 'ASP', 'SER', 'ALA', 'GLY', 'ARG', 'LYS', 'ARG', 'PRO', 'LEU', 'GLU', 'GLN', 'SER', 'ASN', 'SER', 'ALA', 'LEU', 'SER', 'GLU', 'SER', 'SER', 'ALA', 'ALA', 'THR', 'GLU', 'PRO', 'SER', 'SER', 'PRO', 'GLN', 'LEU', 'GLY', 'SER', 'PRO', 'SER', 'SER', 'ASP', 'SER', 'CYS', 'PRO', 'GLY', 'LEU', 'SER', 'ASN', 'GLY', 'GLU', 'GLU', 'VAL', 'GLY', 'LEU', 'GLU', 'LYS', 'PRO', 'SER', 'LEU', 'GLU', 'PRO', 'GLN', 'LYS', 'SER', 'LEU', 'GLY', 'ASP', 'GLU', 'GLY', 'LEU', 'ASN', 'ARG', 'GLY', 'PRO', 'TYR', 'VAL', 'LEU', 'GLY', 'PRO', 'ALA', 'ASP', 'ARG', 'GLU', 'ASP', 'GLU', 'GLU', 'GLU', 'ASP', 'GLU', 'GLU', 'GLU', 'GLU', 'GLU', 'GLN', 'THR', 'ASP', 'PRO', 'LYS', 'LYS', 'PRO', 'THR']}\n",
      "3SE6.pdb {(1, 441): ['CYS', 'LEU', 'GLU', 'SER', 'ASP', 'PHE', 'THR', 'SER', 'GLY', 'GLY', 'VAL', 'CYS', 'HIS', 'SER', 'ASP', 'PRO', 'LYS', 'MET', 'THR', 'SER', 'ASN', 'MET', 'LEU', 'ALA', 'PHE', 'LEU', 'GLY', 'GLU', 'ASN'], (1, 71): ['GLU', 'ASP', 'SER', 'ARG', 'TYR', 'MET', 'LYS'], (0, 73): ['ASP', 'SER', 'ARG'], (0, 446): ['CYS', 'LEU', 'GLU', 'SER', 'ASP', 'PHE', 'THR', 'SER', 'GLY', 'GLY', 'VAL', 'CYS', 'HIS', 'SER', 'ASP', 'PRO', 'LYS', 'MET', 'THR', 'SER', 'ASN', 'MET', 'LEU', 'ALA', 'PHE'], (0, 488): ['VAL', 'PHE', 'GLN', 'GLU', 'ASP', 'PRO', 'GLU', 'TRP', 'ARG', 'ALA', 'LEU'], (1, 480): ['PHE', 'GLN', 'GLU', 'ASP', 'PRO', 'GLU', 'TRP', 'ARG', 'ALA', 'LEU', 'GLN', 'GLU']}\n",
      "4DUR.pdb {(1, 442): ['GLY', 'LYS', 'GLY'], (1, 333): ['SER', 'SER', 'PRO', 'VAL', 'SER', 'THR', 'GLU', 'GLN', 'LEU', 'ALA'], (0, 332): ['SER', 'SER', 'PRO', 'VAL', 'SER', 'THR', 'GLU', 'GLN', 'LEU', 'ALA'], (1, 474): ['ARG', 'ALA', 'GLY'], (0, 656): ['GLN', 'GLY', 'THR'], (1, 653): ['THR', 'GLN', 'GLY'], (0, 425): ['THR', 'GLU', 'ALA', 'SER', 'VAL', 'VAL', 'ALA', 'PRO', 'PRO', 'PRO', 'VAL', 'VAL', 'LEU', 'LEU', 'PRO', 'ASP', 'VAL', 'GLU', 'THR', 'PRO'], (1, 509): ['ALA', 'ALA'], (1, 446): ['ARG', 'ALA'], (1, 436): ['VAL', 'VAL', 'LEU', 'LEU', 'PRO', 'ASP', 'VAL', 'GLU', 'THR', 'PRO', 'SER', 'GLU', 'GLU']}\n",
      "4GNK.pdb {(4, 157): ['GLU', 'ALA', 'LYS', 'MET', 'ARG', 'ASP', 'LYS'], (1, 460): ['HIS', 'ARG', 'PRO', 'SER', 'ALA', 'GLY', 'GLY', 'PRO', 'ASP', 'SER', 'ALA', 'GLY', 'ARG', 'LYS', 'ARG', 'PRO', 'LEU', 'GLU', 'GLN', 'SER', 'ASN', 'SER', 'ALA', 'LEU', 'SER', 'GLU', 'SER', 'SER', 'ALA', 'ALA', 'THR', 'GLU', 'PRO', 'SER', 'SER', 'PRO', 'GLN', 'LEU', 'GLY', 'SER', 'PRO', 'SER', 'SER', 'ASP', 'SER', 'CYS', 'PRO', 'GLY', 'LEU', 'SER', 'ASN', 'GLY', 'GLU', 'GLU', 'VAL', 'GLY', 'LEU', 'GLU', 'LYS', 'PRO', 'SER', 'LEU', 'GLU', 'PRO', 'GLN', 'LYS', 'SER', 'LEU', 'GLY', 'ASP', 'GLU', 'GLY', 'LEU', 'ASN', 'ARG', 'GLY', 'PRO', 'TYR', 'VAL', 'LEU', 'GLY', 'PRO', 'ALA', 'ASP', 'ARG', 'GLU', 'ASP', 'GLU', 'GLU', 'GLU', 'ASP', 'GLU', 'GLU', 'GLU', 'GLU', 'GLU', 'GLN', 'THR', 'ASP', 'PRO', 'LYS', 'LYS'], (3, 459): ['HIS', 'ARG', 'PRO', 'SER', 'ALA', 'GLY', 'GLY', 'PRO', 'ASP', 'SER', 'ALA', 'GLY', 'ARG', 'LYS', 'ARG', 'PRO', 'LEU', 'GLU', 'GLN', 'SER', 'ASN', 'SER', 'ALA', 'LEU', 'SER', 'GLU', 'SER', 'SER', 'ALA', 'ALA', 'THR', 'GLU', 'PRO', 'SER', 'SER', 'PRO', 'GLN', 'LEU', 'GLY', 'SER', 'PRO', 'SER', 'SER', 'ASP', 'SER', 'CYS', 'PRO', 'GLY', 'LEU', 'SER', 'ASN', 'GLY', 'GLU', 'GLU', 'VAL', 'GLY', 'LEU', 'GLU', 'LYS', 'PRO', 'SER', 'LEU', 'GLU', 'PRO', 'GLN', 'LYS', 'SER', 'LEU', 'GLY', 'ASP', 'GLU', 'GLY', 'LEU', 'ASN', 'ARG', 'GLY', 'PRO', 'TYR', 'VAL', 'LEU', 'GLY', 'PRO', 'ALA', 'ASP', 'ARG', 'GLU', 'ASP', 'GLU', 'GLU', 'GLU', 'ASP', 'GLU', 'GLU', 'GLU', 'GLU', 'GLU', 'GLN', 'THR', 'ASP', 'PRO', 'LYS', 'LYS', 'PRO', 'THR'], (3, 187): ['PHE', 'ASN'], (4, 75): ['PRO', 'GLY', 'ALA', 'LEU', 'GLY', 'GLY', 'ALA', 'ALA', 'ASP', 'VAL', 'GLU', 'ASP', 'THR', 'LYS', 'GLU', 'GLY', 'GLU']}\n",
      "4I0K.pdb {(0, 117): ['ASN', 'LYS', 'ASP', 'LEU', 'ARG']}\n",
      "4KX7.pdb {(0, 532): ['SER', 'SER', 'ASN', 'PRO']}\n",
      "5AB0.pdb {(1, 448): ['SER', 'CYS', 'LEU', 'GLU', 'SER', 'ASP', 'PHE', 'THR', 'SER', 'GLY', 'GLY', 'VAL', 'CYS', 'HIS', 'SER', 'ASP', 'PRO', 'LYS', 'MET', 'THR', 'SER', 'ASN', 'MET', 'LEU', 'ALA', 'PHE', 'LEU']}\n",
      "5AB2.pdb {(0, 449): ['CYS', 'LEU', 'GLU', 'SER', 'ASP', 'PHE', 'THR', 'SER', 'GLY', 'GLY', 'VAL', 'CYS'], (1, 449): ['CYS', 'LEU', 'GLU', 'SER', 'ASP', 'PHE', 'THR', 'SER', 'GLY', 'GLY', 'VAL', 'CYS', 'HIS', 'SER', 'ASP', 'PRO', 'LYS', 'MET', 'THR', 'SER', 'ASN', 'MET', 'LEU', 'ALA', 'PHE', 'LEU', 'GLY', 'GLU', 'ASN']}\n",
      "5DO7.pdb {(1, 22): ['ASN', 'THR', 'LEU', 'GLU', 'VAL', 'ARG', 'ASP', 'LEU', 'ASN', 'TYR', 'GLN', 'VAL', 'ASP', 'LEU', 'ALA', 'SER', 'GLN', 'VAL', 'PRO', 'TRP', 'PHE', 'GLU', 'GLN', 'LEU', 'ALA', 'GLN', 'PHE', 'LYS', 'MET', 'PRO', 'TRP', 'THR', 'SER', 'PRO', 'SER', 'CYS', 'GLN', 'ASN', 'SER', 'CYS', 'GLU', 'LEU'], (1, 282): ['ASP', 'LEU', 'ASP', 'GLU', 'ASP', 'THR', 'CYS', 'VAL', 'GLU', 'SER', 'SER', 'VAL', 'THR', 'PRO', 'LEU', 'ASP', 'THR', 'ASN', 'CYS', 'LEU', 'PRO', 'SER', 'PRO', 'THR', 'LYS', 'MET', 'PRO'], (2, 21): ['ASN', 'THR', 'LEU', 'GLU', 'VAL', 'ARG', 'ASP', 'LEU', 'ASN', 'TYR', 'GLN', 'VAL', 'ASP', 'LEU', 'ALA', 'SER', 'GLN', 'VAL', 'PRO', 'TRP', 'PHE', 'GLU', 'GLN', 'LEU', 'ALA', 'GLN', 'PHE', 'LYS', 'MET', 'PRO', 'TRP', 'THR', 'SER', 'PRO', 'SER', 'CYS', 'GLN', 'ASN', 'SER', 'CYS', 'GLU'], (0, 13): ['VAL', 'SER', 'HIS', 'ARG', 'VAL', 'ARG', 'PRO', 'TRP', 'TRP', 'ASP', 'ILE', 'THR', 'SER', 'CYS', 'ARG', 'GLN', 'GLN', 'TRP', 'THR'], (3, 11): ['VAL', 'SER', 'HIS', 'ARG', 'VAL', 'ARG', 'PRO', 'TRP', 'TRP', 'ASP', 'ILE', 'THR', 'SER', 'CYS', 'ARG', 'GLN', 'GLN', 'TRP', 'THR', 'ARG'], (3, 528): ['SER', 'ASN', 'VAL', 'SER', 'VAL', 'THR', 'THR', 'ASN', 'PRO'], (2, 291): ['LEU', 'ASP', 'ASP', 'PHE', 'LEU', 'TRP', 'LYS', 'ALA', 'GLU', 'THR', 'LYS', 'ASP', 'LEU', 'ASP', 'GLU', 'ASP', 'THR', 'CYS', 'VAL', 'GLU', 'SER', 'SER', 'VAL', 'THR', 'PRO', 'LEU', 'ASP', 'THR', 'ASN', 'CYS', 'LEU', 'PRO', 'SER', 'PRO'], (1, 257): ['VAL', 'ASP', 'LEU', 'THR', 'SER', 'ILE', 'ASP', 'ARG', 'ARG', 'SER', 'ARG', 'GLU', 'GLN', 'GLU', 'LEU', 'ALA', 'THR', 'ARG', 'GLU', 'LYS'], (0, 535): ['GLY', 'SER', 'SER', 'ASN', 'VAL', 'SER', 'VAL', 'THR', 'THR', 'ASN', 'PRO', 'MET', 'CYS'], (3, 293): ['LYS', 'THR', 'LEU', 'PRO', 'MET', 'VAL']}\n"
     ]
    }
   ],
   "source": [
    "for pdbfil in pdbfiles:\n",
    "    #print pdbfil, findmissing(pdbfil)\n",
    "    if findmissing(pdbfil):\n",
    "        print pdbfil, findmissing(pdbfil)\n",
    "        #fixer.addMissingAtoms()\n",
    "        #fixer.pdb.writeFile(fixer.topology,fixer.positions,file=open(pdbfil+'mdl','w'))"
   ]
  },
  {
   "cell_type": "code",
   "execution_count": 14,
   "metadata": {
    "collapsed": false
   },
   "outputs": [],
   "source": [
    "import pdbfixer\n"
   ]
  },
  {
   "cell_type": "code",
   "execution_count": 15,
   "metadata": {
    "collapsed": true
   },
   "outputs": [],
   "source": [
    "def fixpdb(pdbfile):\n",
    "    \"Only select the first chain of a protein and model the center\"\n",
    "    import pdbfixer\n",
    "    fixer = pdbfixer.PDBFixer(filename=pdbfile)\n",
    "    #numChains = len(list(fixer.topology.chains()))\n",
    "    #fixer.removeChains(range(1,numChains))\n",
    "    fixer.findMissingResidues()\n",
    "    keys = fixer.missingResidues.keys()\n",
    "    chains = list(fixer.topology.chains())    \n",
    "    for key in keys:\n",
    "        chain = chains[key[0]]\n",
    "        if key[1] == 0 or key[1] == len( list(chain.residues())):\n",
    "            del fixer.missingResidues[key]\n",
    "    print fixer.missingResidues \n",
    "    fixer.findMissingAtoms()\n",
    "    fixer.addMissingAtoms()\n",
    "    fixer.pdb.writeFile(fixer.topology,fixer.positions,file=open(pdbfile+'mdl','w'))"
   ]
  },
  {
   "cell_type": "code",
   "execution_count": 16,
   "metadata": {
    "collapsed": false
   },
   "outputs": [
    {
     "name": "stdout",
     "output_type": "stream",
     "text": [
      "{}\n",
      "{(0, 243): ['GLY', 'GLY', 'LEU', 'LEU', 'PRO', 'ALA', 'GLY', 'GLY', 'GLU', 'ASN', 'GLY', 'SER', 'GLU', 'ALA', 'THR', 'ASP', 'VAL', 'SER', 'ASP', 'GLU', 'VAL', 'GLU', 'ALA', 'ALA', 'GLU', 'MET', 'GLU', 'ASP', 'GLU', 'ALA', 'VAL', 'ARG', 'SER', 'GLN', 'VAL', 'GLN', 'HIS', 'LYS', 'PRO', 'LYS', 'GLU', 'ASP', 'LYS', 'LEU'], (1, 288): ['LEU', 'PRO', 'ALA', 'GLY', 'GLY', 'GLU', 'ASN', 'GLY', 'SER', 'GLU', 'ALA', 'THR', 'ASP', 'VAL', 'SER', 'ASP', 'GLU', 'VAL', 'GLU', 'ALA', 'ALA', 'GLU', 'MET', 'GLU', 'ASP', 'GLU', 'ALA', 'VAL', 'ARG', 'SER', 'GLN', 'VAL', 'GLN', 'HIS', 'LYS', 'PRO', 'LYS', 'GLU']}\n",
      "{}\n",
      "{(0, 399): ['LYS', 'ASN', 'LYS', 'ASN', 'SER'], (1, 240): ['LEU', 'PRO', 'ALA', 'GLY', 'GLY', 'GLU', 'ASN', 'GLY', 'SER', 'GLU', 'ALA', 'THR', 'ASP', 'VAL', 'SER', 'ASP', 'GLU', 'VAL', 'GLU', 'ALA', 'ALA', 'GLU', 'MET', 'GLU', 'ASP', 'GLU', 'ALA', 'VAL', 'ARG', 'SER', 'GLN', 'VAL', 'GLN', 'HIS', 'LYS', 'PRO', 'LYS', 'GLU', 'ASP'], (1, 398): ['LYS', 'ASN', 'LYS', 'ASN', 'SER'], (0, 240): ['LEU', 'LEU', 'PRO', 'ALA', 'GLY', 'GLY', 'GLU', 'ASN', 'GLY', 'SER', 'GLU', 'ALA', 'THR', 'ASP', 'VAL', 'SER', 'ASP', 'GLU', 'VAL', 'GLU', 'ALA', 'ALA', 'GLU', 'MET', 'GLU', 'ASP', 'GLU', 'ALA', 'VAL', 'ARG', 'SER', 'GLN', 'VAL', 'GLN', 'HIS', 'LYS', 'PRO', 'LYS', 'GLU', 'ASP', 'LYS', 'LEU'], (1, 266): ['GLY', 'THR', 'SER']}\n",
      "{}\n",
      "{}\n",
      "{(1, 217): ['TYR', 'HIS', 'ALA', 'LYS', 'ALA', 'LYS', 'PRO'], (1, 425): ['ASN', 'GLN', 'PHE', 'SER', 'GLY', 'PRO', 'THR', 'SER', 'SER', 'SER', 'LYS', 'ASP', 'THR', 'GLY', 'GLY', 'GLU', 'ALA', 'GLU', 'GLY', 'SER', 'SER', 'PRO', 'PRO', 'SER', 'ALA', 'PRO', 'ALA', 'VAL', 'TRP', 'ALA', 'GLY', 'GLU', 'GLU', 'GLY', 'THR', 'GLU', 'LEU', 'GLU', 'GLU', 'GLU', 'GLU', 'VAL', 'GLU', 'GLU', 'GLU', 'GLU', 'GLU'], (1, 234): ['SER', 'ARG', 'LEU', 'ASN', 'SER', 'LEU', 'LEU', 'PHE', 'PRO', 'PRO', 'ALA', 'ARG', 'PRO', 'ASP', 'GLN', 'VAL'], (1, 574): ['ASP', 'LYS', 'GLN', 'PHE', 'ASN', 'PRO', 'PHE', 'SER', 'VAL', 'ASP', 'ARG', 'ILE', 'ASP', 'VAL', 'VAL', 'VAL', 'ALA'], (1, 244): ['GLY', 'ILE', 'ASN', 'ALA', 'GLN', 'ARG']}\n",
      "{}\n",
      "{}\n",
      "{}\n",
      "{}\n",
      "{}\n",
      "{(1, 243): ['ASN', 'GLN', 'ASN']}\n",
      "{(1, 78): ['LEU', 'GLY', 'PHE', 'GLY', 'GLY', 'PRO', 'ASP', 'ALA', 'ARG'], (1, 451): ['ARG', 'PRO', 'SER', 'ALA', 'GLY', 'GLY', 'PRO', 'ASP', 'SER', 'ALA', 'GLY', 'ARG', 'LYS', 'ARG', 'PRO', 'LEU', 'GLU', 'GLN', 'SER', 'ASN', 'SER', 'ALA', 'LEU', 'SER', 'GLU', 'SER', 'SER', 'ALA', 'ALA', 'THR', 'GLU', 'PRO', 'SER', 'SER', 'PRO', 'GLN', 'LEU', 'GLY', 'SER', 'PRO', 'SER', 'SER', 'ASP', 'SER', 'CYS', 'PRO', 'GLY', 'LEU', 'SER', 'ASN', 'GLY', 'GLU', 'GLU', 'VAL', 'GLY', 'LEU', 'GLU', 'LYS', 'PRO', 'SER', 'LEU', 'GLU', 'PRO', 'GLN', 'LYS', 'SER', 'LEU', 'GLY', 'ASP', 'GLU', 'GLY', 'LEU', 'ASN', 'ARG', 'GLY', 'PRO', 'TYR', 'VAL', 'LEU', 'GLY', 'PRO', 'ALA', 'ASP', 'ARG', 'GLU', 'ASP', 'GLU', 'GLU', 'GLU', 'ASP', 'GLU', 'GLU', 'GLU', 'GLU', 'GLU', 'GLN', 'THR', 'ASP', 'PRO', 'LYS', 'LYS', 'PRO', 'THR']}\n",
      "{}\n",
      "{}\n",
      "{(1, 441): ['CYS', 'LEU', 'GLU', 'SER', 'ASP', 'PHE', 'THR', 'SER', 'GLY', 'GLY', 'VAL', 'CYS', 'HIS', 'SER', 'ASP', 'PRO', 'LYS', 'MET', 'THR', 'SER', 'ASN', 'MET', 'LEU', 'ALA', 'PHE', 'LEU', 'GLY', 'GLU', 'ASN'], (1, 71): ['GLU', 'ASP', 'SER', 'ARG', 'TYR', 'MET', 'LYS'], (0, 73): ['ASP', 'SER', 'ARG'], (0, 446): ['CYS', 'LEU', 'GLU', 'SER', 'ASP', 'PHE', 'THR', 'SER', 'GLY', 'GLY', 'VAL', 'CYS', 'HIS', 'SER', 'ASP', 'PRO', 'LYS', 'MET', 'THR', 'SER', 'ASN', 'MET', 'LEU', 'ALA', 'PHE'], (0, 488): ['VAL', 'PHE', 'GLN', 'GLU', 'ASP', 'PRO', 'GLU', 'TRP', 'ARG', 'ALA', 'LEU'], (1, 480): ['PHE', 'GLN', 'GLU', 'ASP', 'PRO', 'GLU', 'TRP', 'ARG', 'ALA', 'LEU', 'GLN', 'GLU']}\n",
      "{(1, 442): ['GLY', 'LYS', 'GLY'], (1, 333): ['SER', 'SER', 'PRO', 'VAL', 'SER', 'THR', 'GLU', 'GLN', 'LEU', 'ALA'], (0, 332): ['SER', 'SER', 'PRO', 'VAL', 'SER', 'THR', 'GLU', 'GLN', 'LEU', 'ALA'], (1, 474): ['ARG', 'ALA', 'GLY'], (0, 656): ['GLN', 'GLY', 'THR'], (1, 653): ['THR', 'GLN', 'GLY'], (0, 425): ['THR', 'GLU', 'ALA', 'SER', 'VAL', 'VAL', 'ALA', 'PRO', 'PRO', 'PRO', 'VAL', 'VAL', 'LEU', 'LEU', 'PRO', 'ASP', 'VAL', 'GLU', 'THR', 'PRO'], (1, 509): ['ALA', 'ALA'], (1, 446): ['ARG', 'ALA'], (1, 436): ['VAL', 'VAL', 'LEU', 'LEU', 'PRO', 'ASP', 'VAL', 'GLU', 'THR', 'PRO', 'SER', 'GLU', 'GLU']}\n",
      "{(4, 157): ['GLU', 'ALA', 'LYS', 'MET', 'ARG', 'ASP', 'LYS'], (1, 460): ['HIS', 'ARG', 'PRO', 'SER', 'ALA', 'GLY', 'GLY', 'PRO', 'ASP', 'SER', 'ALA', 'GLY', 'ARG', 'LYS', 'ARG', 'PRO', 'LEU', 'GLU', 'GLN', 'SER', 'ASN', 'SER', 'ALA', 'LEU', 'SER', 'GLU', 'SER', 'SER', 'ALA', 'ALA', 'THR', 'GLU', 'PRO', 'SER', 'SER', 'PRO', 'GLN', 'LEU', 'GLY', 'SER', 'PRO', 'SER', 'SER', 'ASP', 'SER', 'CYS', 'PRO', 'GLY', 'LEU', 'SER', 'ASN', 'GLY', 'GLU', 'GLU', 'VAL', 'GLY', 'LEU', 'GLU', 'LYS', 'PRO', 'SER', 'LEU', 'GLU', 'PRO', 'GLN', 'LYS', 'SER', 'LEU', 'GLY', 'ASP', 'GLU', 'GLY', 'LEU', 'ASN', 'ARG', 'GLY', 'PRO', 'TYR', 'VAL', 'LEU', 'GLY', 'PRO', 'ALA', 'ASP', 'ARG', 'GLU', 'ASP', 'GLU', 'GLU', 'GLU', 'ASP', 'GLU', 'GLU', 'GLU', 'GLU', 'GLU', 'GLN', 'THR', 'ASP', 'PRO', 'LYS', 'LYS'], (3, 459): ['HIS', 'ARG', 'PRO', 'SER', 'ALA', 'GLY', 'GLY', 'PRO', 'ASP', 'SER', 'ALA', 'GLY', 'ARG', 'LYS', 'ARG', 'PRO', 'LEU', 'GLU', 'GLN', 'SER', 'ASN', 'SER', 'ALA', 'LEU', 'SER', 'GLU', 'SER', 'SER', 'ALA', 'ALA', 'THR', 'GLU', 'PRO', 'SER', 'SER', 'PRO', 'GLN', 'LEU', 'GLY', 'SER', 'PRO', 'SER', 'SER', 'ASP', 'SER', 'CYS', 'PRO', 'GLY', 'LEU', 'SER', 'ASN', 'GLY', 'GLU', 'GLU', 'VAL', 'GLY', 'LEU', 'GLU', 'LYS', 'PRO', 'SER', 'LEU', 'GLU', 'PRO', 'GLN', 'LYS', 'SER', 'LEU', 'GLY', 'ASP', 'GLU', 'GLY', 'LEU', 'ASN', 'ARG', 'GLY', 'PRO', 'TYR', 'VAL', 'LEU', 'GLY', 'PRO', 'ALA', 'ASP', 'ARG', 'GLU', 'ASP', 'GLU', 'GLU', 'GLU', 'ASP', 'GLU', 'GLU', 'GLU', 'GLU', 'GLU', 'GLN', 'THR', 'ASP', 'PRO', 'LYS', 'LYS', 'PRO', 'THR'], (3, 187): ['PHE', 'ASN'], (4, 75): ['PRO', 'GLY', 'ALA', 'LEU', 'GLY', 'GLY', 'ALA', 'ALA', 'ASP', 'VAL', 'GLU', 'ASP', 'THR', 'LYS', 'GLU', 'GLY', 'GLU']}\n",
      "{}\n",
      "{}\n",
      "{(0, 117): ['ASN', 'LYS', 'ASP', 'LEU', 'ARG']}\n",
      "{}\n",
      "{}\n",
      "{(0, 532): ['SER', 'SER', 'ASN', 'PRO']}\n",
      "{}\n",
      "{}\n",
      "{(1, 448): ['SER', 'CYS', 'LEU', 'GLU', 'SER', 'ASP', 'PHE', 'THR', 'SER', 'GLY', 'GLY', 'VAL', 'CYS', 'HIS', 'SER', 'ASP', 'PRO', 'LYS', 'MET', 'THR', 'SER', 'ASN', 'MET', 'LEU', 'ALA', 'PHE', 'LEU']}\n",
      "{(0, 449): ['CYS', 'LEU', 'GLU', 'SER', 'ASP', 'PHE', 'THR', 'SER', 'GLY', 'GLY', 'VAL', 'CYS'], (1, 449): ['CYS', 'LEU', 'GLU', 'SER', 'ASP', 'PHE', 'THR', 'SER', 'GLY', 'GLY', 'VAL', 'CYS', 'HIS', 'SER', 'ASP', 'PRO', 'LYS', 'MET', 'THR', 'SER', 'ASN', 'MET', 'LEU', 'ALA', 'PHE', 'LEU', 'GLY', 'GLU', 'ASN']}\n",
      "{(1, 22): ['ASN', 'THR', 'LEU', 'GLU', 'VAL', 'ARG', 'ASP', 'LEU', 'ASN', 'TYR', 'GLN', 'VAL', 'ASP', 'LEU', 'ALA', 'SER', 'GLN', 'VAL', 'PRO', 'TRP', 'PHE', 'GLU', 'GLN', 'LEU', 'ALA', 'GLN', 'PHE', 'LYS', 'MET', 'PRO', 'TRP', 'THR', 'SER', 'PRO', 'SER', 'CYS', 'GLN', 'ASN', 'SER', 'CYS', 'GLU', 'LEU'], (1, 282): ['ASP', 'LEU', 'ASP', 'GLU', 'ASP', 'THR', 'CYS', 'VAL', 'GLU', 'SER', 'SER', 'VAL', 'THR', 'PRO', 'LEU', 'ASP', 'THR', 'ASN', 'CYS', 'LEU', 'PRO', 'SER', 'PRO', 'THR', 'LYS', 'MET', 'PRO'], (2, 21): ['ASN', 'THR', 'LEU', 'GLU', 'VAL', 'ARG', 'ASP', 'LEU', 'ASN', 'TYR', 'GLN', 'VAL', 'ASP', 'LEU', 'ALA', 'SER', 'GLN', 'VAL', 'PRO', 'TRP', 'PHE', 'GLU', 'GLN', 'LEU', 'ALA', 'GLN', 'PHE', 'LYS', 'MET', 'PRO', 'TRP', 'THR', 'SER', 'PRO', 'SER', 'CYS', 'GLN', 'ASN', 'SER', 'CYS', 'GLU'], (0, 13): ['VAL', 'SER', 'HIS', 'ARG', 'VAL', 'ARG', 'PRO', 'TRP', 'TRP', 'ASP', 'ILE', 'THR', 'SER', 'CYS', 'ARG', 'GLN', 'GLN', 'TRP', 'THR'], (3, 11): ['VAL', 'SER', 'HIS', 'ARG', 'VAL', 'ARG', 'PRO', 'TRP', 'TRP', 'ASP', 'ILE', 'THR', 'SER', 'CYS', 'ARG', 'GLN', 'GLN', 'TRP', 'THR', 'ARG'], (3, 528): ['SER', 'ASN', 'VAL', 'SER', 'VAL', 'THR', 'THR', 'ASN', 'PRO'], (2, 291): ['LEU', 'ASP', 'ASP', 'PHE', 'LEU', 'TRP', 'LYS', 'ALA', 'GLU', 'THR', 'LYS', 'ASP', 'LEU', 'ASP', 'GLU', 'ASP', 'THR', 'CYS', 'VAL', 'GLU', 'SER', 'SER', 'VAL', 'THR', 'PRO', 'LEU', 'ASP', 'THR', 'ASN', 'CYS', 'LEU', 'PRO', 'SER', 'PRO'], (1, 257): ['VAL', 'ASP', 'LEU', 'THR', 'SER', 'ILE', 'ASP', 'ARG', 'ARG', 'SER', 'ARG', 'GLU', 'GLN', 'GLU', 'LEU', 'ALA', 'THR', 'ARG', 'GLU', 'LYS'], (0, 535): ['GLY', 'SER', 'SER', 'ASN', 'VAL', 'SER', 'VAL', 'THR', 'THR', 'ASN', 'PRO', 'MET', 'CYS'], (3, 293): ['LYS', 'THR', 'LEU', 'PRO', 'MET', 'VAL']}\n"
     ]
    }
   ],
   "source": [
    "for pdb in pdbfiles:\n",
    "    fixpdb(pdb)"
   ]
  },
  {
   "cell_type": "code",
   "execution_count": 19,
   "metadata": {
    "collapsed": false
   },
   "outputs": [],
   "source": [
    "modeledpbs = glob.glob('*.pdbmdl')"
   ]
  },
  {
   "cell_type": "code",
   "execution_count": 21,
   "metadata": {
    "collapsed": false
   },
   "outputs": [
    {
     "name": "stdout",
     "output_type": "stream",
     "text": [
      "1AV1.pdbmdl\n",
      "Read 804 atoms from the 1AV1.pdbmdl\n",
      "Wrote out to 1AV1-dfianalysis.csv\n",
      "1DJG.pdbmdl\n",
      "Read 1156 atoms from the 1DJG.pdbmdl\n",
      "Wrote out to 1DJG-dfianalysis.csv\n",
      "1GAX.pdbmdl\n",
      "Read 1726 atoms from the 1GAX.pdbmdl\n",
      "Wrote out to 1GAX-dfianalysis.csv\n",
      "1QAS.pdbmdl\n",
      "Read 1103 atoms from the 1QAS.pdbmdl\n",
      "Wrote out to 1QAS-dfianalysis.csv\n",
      "1QU2.pdbmdl\n",
      "Read 917 atoms from the 1QU2.pdbmdl\n",
      "Wrote out to 1QU2-dfianalysis.csv\n",
      "2A01.pdbmdl\n",
      "Read 729 atoms from the 2A01.pdbmdl\n",
      "Wrote out to 2A01-dfianalysis.csv\n",
      "2FJU.pdbmdl\n",
      "Read 966 atoms from the 2FJU.pdbmdl\n",
      "Wrote out to 2FJU-dfianalysis.csv\n",
      "2LEM.pdbmdl\n",
      "Read 216 atoms from the 2LEM.pdbmdl\n",
      "Wrote out to 2LEM-dfianalysis.csv\n",
      "2MSC.pdbmdl\n",
      "Read 581 atoms from the 2MSC.pdbmdl\n",
      "Wrote out to 2MSC-dfianalysis.csv\n",
      "2Q7Z.pdbmdl\n",
      "Read 1931 atoms from the 2Q7Z.pdbmdl\n",
      "Cannot process:  2Q7Z.pdbmdl\n",
      "2Z7X.pdbmdl\n",
      "Read 1075 atoms from the 2Z7X.pdbmdl\n",
      "Wrote out to 2Z7X-dfianalysis.csv\n",
      "3NM8.pdbmdl\n",
      "Read 570 atoms from the 3NM8.pdbmdl\n",
      "Wrote out to 3NM8-dfianalysis.csv\n",
      "3NQ5.pdbmdl\n",
      "Read 570 atoms from the 3NQ5.pdbmdl\n",
      "Wrote out to 3NQ5-dfianalysis.csv\n",
      "3OHM.pdbmdl\n",
      "Read 1189 atoms from the 3OHM.pdbmdl\n",
      "Wrote out to 3OHM-dfianalysis.csv\n",
      "3R2P.pdbmdl\n",
      "Read 180 atoms from the 3R2P.pdbmdl\n",
      "Wrote out to 3R2P-dfianalysis.csv\n",
      "3S84.pdbmdl\n",
      "Read 480 atoms from the 3S84.pdbmdl\n",
      "Wrote out to 3S84-dfianalysis.csv\n",
      "3SE6.pdbmdl\n",
      "Read 1817 atoms from the 3SE6.pdbmdl\n",
      "Wrote out to 3SE6-dfianalysis.csv\n",
      "4DUR.pdbmdl\n",
      "Read 1579 atoms from the 4DUR.pdbmdl\n",
      "Wrote out to 4DUR-dfianalysis.csv\n",
      "4GNK.pdbmdl\n",
      "Read 2660 atoms from the 4GNK.pdbmdl\n",
      "Wrote out to 4GNK-dfianalysis.csv\n",
      "4HD4.pdbmdl\n",
      "Read 573 atoms from the 4HD4.pdbmdl\n",
      "Wrote out to 4HD4-dfianalysis.csv\n",
      "4HD7.pdbmdl\n",
      "Read 572 atoms from the 4HD7.pdbmdl\n",
      "Wrote out to 4HD7-dfianalysis.csv\n",
      "4I0K.pdbmdl\n",
      "Read 205 atoms from the 4I0K.pdbmdl\n",
      "Cannot process:  4I0K.pdbmdl\n",
      "4J6T.pdbmdl\n",
      "Read 573 atoms from the 4J6T.pdbmdl\n",
      "Wrote out to 4J6T-dfianalysis.csv\n",
      "4J6V.pdbmdl\n",
      "Read 573 atoms from the 4J6V.pdbmdl\n",
      "Wrote out to 4J6V-dfianalysis.csv\n",
      "4KX7.pdbmdl\n",
      "Read 879 atoms from the 4KX7.pdbmdl\n",
      "Wrote out to 4KX7-dfianalysis.csv\n",
      "4P6R.pdbmdl\n",
      "Read 575 atoms from the 4P6R.pdbmdl\n",
      "Wrote out to 4P6R-dfianalysis.csv\n",
      "4QJ3.pdbmdl\n",
      "Read 1072 atoms from the 4QJ3.pdbmdl\n",
      "Wrote out to 4QJ3-dfianalysis.csv\n",
      "5AB0.pdbmdl\n",
      "Read 1838 atoms from the 5AB0.pdbmdl\n",
      "Wrote out to 5AB0-dfianalysis.csv\n",
      "5AB2.pdbmdl\n",
      "Read 1829 atoms from the 5AB2.pdbmdl\n",
      "Wrote out to 5AB2-dfianalysis.csv\n",
      "5DO7.pdbmdl\n",
      "Read 2528 atoms from the 5DO7.pdbmdl\n",
      "Wrote out to 5DO7-dfianalysis.csv\n"
     ]
    }
   ],
   "source": [
    "for pdb in modeledpbs:\n",
    "    print pdb\n",
    "    try:\n",
    "        dfi.calc_dfi(pdb,writetofile=True)\n",
    "    except:\n",
    "        print \"Cannot process: \", pdb "
   ]
  },
  {
   "cell_type": "code",
   "execution_count": 22,
   "metadata": {
    "collapsed": false
   },
   "outputs": [
    {
     "name": "stdout",
     "output_type": "stream",
     "text": [
      "Read 205 atoms from the 4I0K.pdbmdl\n"
     ]
    },
    {
     "ename": "AssertionError",
     "evalue": "Number of near-singular eigenvalues: 9.000000",
     "output_type": "error",
     "traceback": [
      "\u001b[0;31m---------------------------------------------------------------------------\u001b[0m",
      "\u001b[0;31mAssertionError\u001b[0m                            Traceback (most recent call last)",
      "\u001b[0;32m<ipython-input-22-87c6cbec7173>\u001b[0m in \u001b[0;36m<module>\u001b[0;34m()\u001b[0m\n\u001b[0;32m----> 1\u001b[0;31m \u001b[0mdfi\u001b[0m\u001b[0;34m.\u001b[0m\u001b[0mcalc_dfi\u001b[0m\u001b[0;34m(\u001b[0m\u001b[0;34m'4I0K.pdbmdl'\u001b[0m\u001b[0;34m)\u001b[0m\u001b[0;34m\u001b[0m\u001b[0m\n\u001b[0m",
      "\u001b[0;32m/Users/teachingassistants/dfi/dfi/dfi_calc.pyc\u001b[0m in \u001b[0;36mcalc_dfi\u001b[0;34m(pdbfile, pdbid, covar, ls_reschain, chain_name, Verbose, writetofile, colorpdb, dfianalfile)\u001b[0m\n\u001b[1;32m    608\u001b[0m     \u001b[0;31m# create covariance matrix or read it in if provided\u001b[0m\u001b[0;34m\u001b[0m\u001b[0;34m\u001b[0m\u001b[0m\n\u001b[1;32m    609\u001b[0m     \u001b[0;32mif\u001b[0m \u001b[0;32mnot\u001b[0m\u001b[0;34m(\u001b[0m\u001b[0mcovar\u001b[0m\u001b[0;34m)\u001b[0m\u001b[0;34m:\u001b[0m\u001b[0;34m\u001b[0m\u001b[0m\n\u001b[0;32m--> 610\u001b[0;31m         \u001b[0minvHrs\u001b[0m \u001b[0;34m=\u001b[0m \u001b[0mcalc_covariance\u001b[0m\u001b[0;34m(\u001b[0m\u001b[0mnumres\u001b[0m\u001b[0;34m,\u001b[0m \u001b[0mx\u001b[0m\u001b[0;34m,\u001b[0m \u001b[0my\u001b[0m\u001b[0;34m,\u001b[0m \u001b[0mz\u001b[0m\u001b[0;34m,\u001b[0m \u001b[0mVerbose\u001b[0m\u001b[0;34m=\u001b[0m\u001b[0mFalse\u001b[0m\u001b[0;34m)\u001b[0m\u001b[0;34m\u001b[0m\u001b[0m\n\u001b[0m\u001b[1;32m    611\u001b[0m     \u001b[0;32melse\u001b[0m\u001b[0;34m:\u001b[0m  \u001b[0;31m# this is where we load the Hessian if provided\u001b[0m\u001b[0;34m\u001b[0m\u001b[0m\n\u001b[1;32m    612\u001b[0m         \u001b[0minvHrs\u001b[0m \u001b[0;34m=\u001b[0m \u001b[0mnp\u001b[0m\u001b[0;34m.\u001b[0m\u001b[0mloadtxt\u001b[0m\u001b[0;34m(\u001b[0m\u001b[0mcovar\u001b[0m\u001b[0;34m)\u001b[0m\u001b[0;34m\u001b[0m\u001b[0m\n",
      "\u001b[0;32m/Users/teachingassistants/dfi/dfi/dfi_calc.pyc\u001b[0m in \u001b[0;36mcalc_covariance\u001b[0;34m(numres, x, y, z, invhessfile, Verbose)\u001b[0m\n\u001b[1;32m    557\u001b[0m         \u001b[0mflatandwrite\u001b[0m\u001b[0;34m(\u001b[0m\u001b[0minvHrs\u001b[0m\u001b[0;34m,\u001b[0m \u001b[0minvhessfile\u001b[0m\u001b[0;34m)\u001b[0m\u001b[0;34m\u001b[0m\u001b[0m\n\u001b[1;32m    558\u001b[0m     assert np.sum(\n\u001b[0;32m--> 559\u001b[0;31m         singular) == 6., \"Number of near-singular eigenvalues: %f\" % np.sum(singular)\n\u001b[0m\u001b[1;32m    560\u001b[0m     \u001b[0;32mreturn\u001b[0m \u001b[0minvHrs\u001b[0m\u001b[0;34m\u001b[0m\u001b[0m\n\u001b[1;32m    561\u001b[0m \u001b[0;34m\u001b[0m\u001b[0m\n",
      "\u001b[0;31mAssertionError\u001b[0m: Number of near-singular eigenvalues: 9.000000"
     ]
    }
   ],
   "source": [
    "dfi.calc_dfi('4I0K.pdbmdl')"
   ]
  },
  {
   "cell_type": "code",
   "execution_count": null,
   "metadata": {
    "collapsed": true
   },
   "outputs": [],
   "source": []
  }
 ],
 "metadata": {
  "kernelspec": {
   "display_name": "Python 2",
   "language": "python",
   "name": "python2"
  },
  "language_info": {
   "codemirror_mode": {
    "name": "ipython",
    "version": 2
   },
   "file_extension": ".py",
   "mimetype": "text/x-python",
   "name": "python",
   "nbconvert_exporter": "python",
   "pygments_lexer": "ipython2",
   "version": "2.7.11"
  }
 },
 "nbformat": 4,
 "nbformat_minor": 0
}
